{
 "cells": [
  {
   "cell_type": "markdown",
   "metadata": {},
   "source": [
    "<center><h1>Projeto 3 - Ciência dos Dados </h1></center>\n",
    "<center><h5>Alexandre Zamberlan Filho</h5></center>\n",
    "<center><h5>Caio Horschutz Fauza</h5></center>\n",
    "<center><h5>Pedro Paulo Mendonça Telho</h5></center>\n",
    " "
   ]
  },
  {
   "cell_type": "markdown",
   "metadata": {},
   "source": [
    "> <b>Tema:</b> Previsão da modalidade esportiva que um atleta, baseando-se em características pré-definidas, deve praticar.        \n",
    "><b>Metodologia:</b> Clusterização   \n",
    "><b>Dataset utilizado:</b> \"120 years of Olympic History of athletes and results\" (Kaggle) "
   ]
  },
  {
   "cell_type": "code",
   "execution_count": 2,
   "metadata": {},
   "outputs": [
    {
     "data": {
      "text/plain": [
       "array([34, 20, 39, ..., 14, 51, 39])"
      ]
     },
     "execution_count": 2,
     "metadata": {},
     "output_type": "execute_result"
    }
   ],
   "source": [
    "import pandas as pd\n",
    "import numpy as np\n",
    "from sklearn import cluster, datasets\n",
    "from sklearn.neighbors import kneighbors_graph\n",
    "from sklearn.preprocessing import StandardScaler\n",
    "\n",
    "geral = pd.read_csv(\"athlete_events.csv\")\n",
    "\n",
    "nclusters = len(geral[\"Sport\"].value_counts())\n",
    "sports = pd.unique(geral[\"Sport\"]).tolist()\n",
    "\n",
    "geraldados = geral.loc[:,(\"Age\", \"Height\", \"Weight\")]\n",
    "geraldados2 = geraldados[geral.Season == \"Summer\"]\n",
    "dados = geraldados2.dropna()\n",
    "\n",
    "med = cluster.MiniBatchKMeans(n_clusters= nclusters, random_state = 0)\n",
    "med.fit(dados)\n",
    "output = med.predict(dados)\n",
    "\n",
    "\n"
   ]
  },
  {
   "cell_type": "code",
   "execution_count": 100,
   "metadata": {},
   "outputs": [
    {
     "data": {
      "text/plain": [
       "3     6247\n",
       "34    5060\n",
       "14    5022\n",
       "21    4885\n",
       "41    4852\n",
       "0     4817\n",
       "9     4554\n",
       "20    4302\n",
       "1     3980\n",
       "33    3912\n",
       "25    3782\n",
       "54    3781\n",
       "11    3761\n",
       "39    3720\n",
       "51    3694\n",
       "12    3633\n",
       "47    3547\n",
       "46    3522\n",
       "16    3489\n",
       "56    3478\n",
       "27    3420\n",
       "26    3414\n",
       "30    3376\n",
       "44    3258\n",
       "35    3114\n",
       "23    3037\n",
       "10    3035\n",
       "60    2837\n",
       "40    2775\n",
       "64    2596\n",
       "      ... \n",
       "31    2152\n",
       "36    2017\n",
       "29    1967\n",
       "8     1953\n",
       "58    1937\n",
       "65    1895\n",
       "45    1889\n",
       "52    1736\n",
       "38    1731\n",
       "22    1722\n",
       "18    1706\n",
       "62    1616\n",
       "55    1605\n",
       "50    1544\n",
       "15    1505\n",
       "28    1286\n",
       "48    1174\n",
       "42    1115\n",
       "7     1044\n",
       "37    1004\n",
       "17    1001\n",
       "24     776\n",
       "57     674\n",
       "61     633\n",
       "63     513\n",
       "6      490\n",
       "32     365\n",
       "4      271\n",
       "19     182\n",
       "43      38\n",
       "Length: 66, dtype: int64"
      ]
     },
     "execution_count": 100,
     "metadata": {},
     "output_type": "execute_result"
    }
   ],
   "source": [
    "a = pd.Series(output)\n",
    "a.value_counts()"
   ]
  },
  {
   "cell_type": "code",
   "execution_count": 47,
   "metadata": {},
   "outputs": [
    {
     "data": {
      "text/html": [
       "<div>\n",
       "<style scoped>\n",
       "    .dataframe tbody tr th:only-of-type {\n",
       "        vertical-align: middle;\n",
       "    }\n",
       "\n",
       "    .dataframe tbody tr th {\n",
       "        vertical-align: top;\n",
       "    }\n",
       "\n",
       "    .dataframe thead th {\n",
       "        text-align: right;\n",
       "    }\n",
       "</style>\n",
       "<table border=\"1\" class=\"dataframe\">\n",
       "  <thead>\n",
       "    <tr style=\"text-align: right;\">\n",
       "      <th></th>\n",
       "      <th>ID</th>\n",
       "      <th>Name</th>\n",
       "      <th>Sex</th>\n",
       "      <th>Age</th>\n",
       "      <th>Height</th>\n",
       "      <th>Weight</th>\n",
       "      <th>Team</th>\n",
       "      <th>NOC</th>\n",
       "      <th>Games</th>\n",
       "      <th>Year</th>\n",
       "      <th>Season</th>\n",
       "      <th>City</th>\n",
       "      <th>Sport</th>\n",
       "      <th>Event</th>\n",
       "      <th>Medal</th>\n",
       "    </tr>\n",
       "  </thead>\n",
       "  <tbody>\n",
       "    <tr>\n",
       "      <th>0</th>\n",
       "      <td>1</td>\n",
       "      <td>A Dijiang</td>\n",
       "      <td>M</td>\n",
       "      <td>24.0</td>\n",
       "      <td>180.0</td>\n",
       "      <td>80.0</td>\n",
       "      <td>China</td>\n",
       "      <td>CHN</td>\n",
       "      <td>1992 Summer</td>\n",
       "      <td>1992</td>\n",
       "      <td>Summer</td>\n",
       "      <td>Barcelona</td>\n",
       "      <td>Basketball</td>\n",
       "      <td>Basketball Men's Basketball</td>\n",
       "      <td>NaN</td>\n",
       "    </tr>\n",
       "  </tbody>\n",
       "</table>\n",
       "</div>"
      ],
      "text/plain": [
       "   ID       Name Sex   Age  Height  Weight   Team  NOC        Games  Year  \\\n",
       "0   1  A Dijiang   M  24.0   180.0    80.0  China  CHN  1992 Summer  1992   \n",
       "\n",
       "   Season       City       Sport                        Event Medal  \n",
       "0  Summer  Barcelona  Basketball  Basketball Men's Basketball   NaN  "
      ]
     },
     "execution_count": 47,
     "metadata": {},
     "output_type": "execute_result"
    }
   ],
   "source": [
    "geral[geral.Name == \"A Dijiang\"]"
   ]
  },
  {
   "cell_type": "code",
   "execution_count": 52,
   "metadata": {},
   "outputs": [
    {
     "data": {
      "text/plain": [
       "Athletics                38624\n",
       "Gymnastics               26707\n",
       "Swimming                 23195\n",
       "Shooting                 11448\n",
       "Cycling                  10859\n",
       "Fencing                  10735\n",
       "Rowing                   10595\n",
       "Cross Country Skiing      9133\n",
       "Alpine Skiing             8829\n",
       "Wrestling                 7154\n",
       "Football                  6745\n",
       "Sailing                   6586\n",
       "Equestrianism             6344\n",
       "Canoeing                  6171\n",
       "Boxing                    6047\n",
       "Speed Skating             5613\n",
       "Ice Hockey                5516\n",
       "Hockey                    5417\n",
       "Biathlon                  4893\n",
       "Basketball                4536\n",
       "Weightlifting             3937\n",
       "Water Polo                3846\n",
       "Judo                      3801\n",
       "Handball                  3665\n",
       "Art Competitions          3578\n",
       "Volleyball                3404\n",
       "Bobsleigh                 3058\n",
       "Tennis                    2862\n",
       "Diving                    2842\n",
       "Ski Jumping               2401\n",
       "                         ...  \n",
       "Badminton                 1457\n",
       "Nordic Combined           1344\n",
       "Freestyle Skiing           937\n",
       "Snowboarding               936\n",
       "Synchronized Swimming      909\n",
       "Baseball                   894\n",
       "Rhythmic Gymnastics        658\n",
       "Taekwondo                  606\n",
       "Beach Volleyball           564\n",
       "Triathlon                  529\n",
       "Softball                   478\n",
       "Curling                    463\n",
       "Rugby Sevens               299\n",
       "Golf                       247\n",
       "Skeleton                   199\n",
       "Tug-Of-War                 170\n",
       "Rugby                      162\n",
       "Trampolining               152\n",
       "Polo                        95\n",
       "Lacrosse                    60\n",
       "Alpinism                    25\n",
       "Military Ski Patrol         24\n",
       "Cricket                     24\n",
       "Croquet                     19\n",
       "Motorboating                17\n",
       "Racquets                    12\n",
       "Jeu De Paume                11\n",
       "Roque                        4\n",
       "Basque Pelota                2\n",
       "Aeronautics                  1\n",
       "Name: Sport, Length: 66, dtype: int64"
      ]
     },
     "execution_count": 52,
     "metadata": {},
     "output_type": "execute_result"
    }
   ],
   "source": [
    "geral[\"Sport\"].value_counts()"
   ]
  },
  {
   "cell_type": "code",
   "execution_count": 64,
   "metadata": {},
   "outputs": [
    {
     "data": {
      "text/plain": [
       "<mpl_toolkits.mplot3d.art3d.Path3DCollection at 0x130a9477ef0>"
      ]
     },
     "execution_count": 64,
     "metadata": {},
     "output_type": "execute_result"
    },
    {
     "data": {
      "image/png": "[encoded data removed]",
      "text/plain": [
       "<matplotlib.figure.Figure at 0x130a9482b38>"
      ]
     },
     "metadata": {},
     "output_type": "display_data"
    }
   ],
   "source": [
    "\n",
    "import matplotlib.pyplot as plt\n",
    "from mpl_toolkits.mplot3d import Axes3D\n",
    "\n",
    "plt3d = plt.figure().gca(projection=\"3d\")\n",
    "plt3d.scatter(dados.Age, dados.Weight, dados.Height)"
   ]
  },
  {
   "cell_type": "code",
   "execution_count": null,
   "metadata": {},
   "outputs": [],
   "source": []
  }
 ],
 "metadata": {
  "kernelspec": {
   "display_name": "Python 3",
   "language": "python",
   "name": "python3"
  },
  "language_info": {
   "codemirror_mode": {
    "name": "ipython",
    "version": 3
   },
   "file_extension": ".py",
   "mimetype": "text/x-python",
   "name": "python",
   "nbconvert_exporter": "python",
   "pygments_lexer": "ipython3",
   "version": "3.6.4"
  }
 },
 "nbformat": 4,
 "nbformat_minor": 2
}
